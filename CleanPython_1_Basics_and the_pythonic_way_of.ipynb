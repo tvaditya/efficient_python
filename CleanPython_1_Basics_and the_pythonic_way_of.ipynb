{
 "cells": [
  {
   "cell_type": "markdown",
   "metadata": {},
   "source": [
    "## Use what already exists.\n",
    "\n",
    "(NIH) Not Invented Here Principle. IF a feature already exists use it!"
   ]
  },
  {
   "cell_type": "code",
   "execution_count": 18,
   "metadata": {},
   "outputs": [],
   "source": [
    "import random"
   ]
  },
  {
   "cell_type": "code",
   "execution_count": 19,
   "metadata": {},
   "outputs": [],
   "source": [
    "num = 5\n",
    "password = \"XNSuhfaohdncnunueu!2i243hdna;ano;o8738723123891@!78122739SDASDADASDasdad348329$%^%$1239\""
   ]
  },
  {
   "cell_type": "code",
   "execution_count": 20,
   "metadata": {},
   "outputs": [],
   "source": [
    "random.seed(2019)"
   ]
  },
  {
   "cell_type": "code",
   "execution_count": 21,
   "metadata": {},
   "outputs": [
    {
     "name": "stdout",
     "output_type": "stream",
     "text": [
      "['2', 'o', 'D', 'i', 'o']\n"
     ]
    }
   ],
   "source": [
    "#Bad coding\n",
    "choices = []\n",
    "for x in range(num):\n",
    "    choice = random.choice(password)\n",
    "    choices.append(choice)\n",
    "print(choices)"
   ]
  },
  {
   "cell_type": "code",
   "execution_count": 22,
   "metadata": {},
   "outputs": [],
   "source": [
    "random.seed(2019)"
   ]
  },
  {
   "cell_type": "code",
   "execution_count": 23,
   "metadata": {},
   "outputs": [
    {
     "name": "stdout",
     "output_type": "stream",
     "text": [
      "['2', 'o', 'D', 'i', '1']\n"
     ]
    }
   ],
   "source": [
    "#Good coding\n",
    "choices = random.sample(password, num)\n",
    "print(choices)"
   ]
  },
  {
   "cell_type": "markdown",
   "metadata": {},
   "source": [
    "## Keep it short and simple\n",
    "Complex code is generally bad code. Design simple things, avoid complex things."
   ]
  },
  {
   "cell_type": "code",
   "execution_count": 24,
   "metadata": {},
   "outputs": [],
   "source": [
    "players_list = ['Messi','CR7','Mbappe','Harry Kane','Neuer']"
   ]
  },
  {
   "cell_type": "code",
   "execution_count": 25,
   "metadata": {},
   "outputs": [
    {
     "name": "stdout",
     "output_type": "stream",
     "text": [
      "Messi is the number 1 player of the world.\n",
      "CR7 is the number 2 player of the world.\n",
      "Mbappe is the number 3 player of the world.\n",
      "Harry Kane is the number 4 player of the world.\n",
      "Neuer is the number 5 player of the world.\n"
     ]
    }
   ],
   "source": [
    "# Bad coding\n",
    "for i in range(len(players_list)):\n",
    "    player = players_list[i]\n",
    "    print('{} is the number {} player of the world.'.format( player, i+1))"
   ]
  },
  {
   "cell_type": "code",
   "execution_count": 26,
   "metadata": {},
   "outputs": [
    {
     "name": "stdout",
     "output_type": "stream",
     "text": [
      "Messi is the number 1 player of the world.\n",
      "CR7 is the number 2 player of the world.\n",
      "Mbappe is the number 3 player of the world.\n",
      "Harry Kane is the number 4 player of the world.\n",
      "Neuer is the number 5 player of the world.\n"
     ]
    }
   ],
   "source": [
    "#Good coding\n",
    "for i, player in enumerate(players_list):\n",
    "    print('{} is the number {} player of the world.'.format( player, i+1))"
   ]
  },
  {
   "cell_type": "code",
   "execution_count": 27,
   "metadata": {},
   "outputs": [
    {
     "name": "stdout",
     "output_type": "stream",
     "text": [
      "Messi is the number 1 player of the world.\n",
      "CR7 is the number 2 player of the world.\n",
      "Mbappe is the number 3 player of the world.\n",
      "Harry Kane is the number 4 player of the world.\n",
      "Neuer is the number 5 player of the world.\n"
     ]
    }
   ],
   "source": [
    "for i, player in enumerate(players_list, 1):\n",
    "    print('{} is the number {} player of the world.'.format( player, i))"
   ]
  },
  {
   "cell_type": "markdown",
   "metadata": {},
   "source": [
    "By using enumerate we simplify coding"
   ]
  },
  {
   "cell_type": "markdown",
   "metadata": {},
   "source": [
    "## Learn to use dictionaries\n",
    "<ul style=\"list-style-type:circle;\">\n",
    "    <li> Use the built-in Python features to manipulate any data structure.</li>\n",
    "    <li> Avoid lopping over elements , for exemple to join or merge dictionaries. </li>\n",
    "</ul>\n"
   ]
  },
  {
   "cell_type": "code",
   "execution_count": 28,
   "metadata": {},
   "outputs": [],
   "source": [
    "player = {'name':'Messi', 'first_name':'Lionel','last_name':'Messi'}\n",
    "player_info =  {'position':'center forward', 'role':'captain'}\n",
    "player_team_info = {'team_name':'Barcelona', 'country':'Spain'}"
   ]
  },
  {
   "cell_type": "code",
   "execution_count": 29,
   "metadata": {},
   "outputs": [
    {
     "name": "stdout",
     "output_type": "stream",
     "text": [
      "{'name': 'Messi', 'first_name': 'Lionel', 'last_name': 'Messi', 'position': 'center forward', 'role': 'captain', 'team_name': 'Barcelona', 'country': 'Spain'}\n"
     ]
    }
   ],
   "source": [
    "# Bad coding\n",
    "profile_list = [player, player_info, player_team_info]\n",
    "player_profile = {}\n",
    "\n",
    "for item in profile_list:\n",
    "    for idx in item:\n",
    "        player_profile[idx] = item[idx]\n",
    "        \n",
    "print(player_profile)"
   ]
  },
  {
   "cell_type": "code",
   "execution_count": 30,
   "metadata": {},
   "outputs": [
    {
     "name": "stdout",
     "output_type": "stream",
     "text": [
      "{'name': 'Messi', 'first_name': 'Lionel', 'last_name': 'Messi', 'position': 'center forward', 'role': 'captain', 'team_name': 'Barcelona', 'country': 'Spain'}\n"
     ]
    }
   ],
   "source": [
    "# Good coding\n",
    "player_profile = {}\n",
    "\n",
    "player_profile.update(player)\n",
    "player_profile.update(player_info)\n",
    "player_profile.update(player_team_info)\n",
    "\n",
    "print(player_profile)"
   ]
  },
  {
   "cell_type": "markdown",
   "metadata": {},
   "source": [
    "## Using python decorators\n",
    "<ul style=\"list-style-type:circle;\">\n",
    "    <li> A reusable pattern that adds functionality respecting the block structure.</li>\n",
    "    <li> Avoid repetitive code</li>\n",
    "</ul>\n"
   ]
  },
  {
   "cell_type": "code",
   "execution_count": 31,
   "metadata": {},
   "outputs": [],
   "source": [
    "import time"
   ]
  },
  {
   "cell_type": "code",
   "execution_count": 32,
   "metadata": {},
   "outputs": [],
   "source": [
    "def time_dec(my_func):\n",
    "    def modified_func(*args, **kwargs):\n",
    "        start = time.time()\n",
    "        my_func(*args, **kwargs)\n",
    "        end = time.time()\n",
    "        print(\"Total time was {} seconds\".format(end - start))\n",
    "    return modified_func"
   ]
  },
  {
   "cell_type": "code",
   "execution_count": 33,
   "metadata": {},
   "outputs": [],
   "source": [
    "@time_dec\n",
    "def create_list(size):\n",
    "    new_list = []\n",
    "    for item in range(0, size):\n",
    "        new_list.append(item)"
   ]
  },
  {
   "cell_type": "code",
   "execution_count": 34,
   "metadata": {},
   "outputs": [
    {
     "name": "stdout",
     "output_type": "stream",
     "text": [
      "Total time was 24.810170650482178 seconds\n"
     ]
    }
   ],
   "source": [
    "create_list(100101001)"
   ]
  },
  {
   "cell_type": "code",
   "execution_count": 35,
   "metadata": {},
   "outputs": [
    {
     "name": "stdout",
     "output_type": "stream",
     "text": [
      "Total time was 2.1416001319885254 seconds\n"
     ]
    }
   ],
   "source": [
    "create_list(10010100)"
   ]
  },
  {
   "cell_type": "code",
   "execution_count": 36,
   "metadata": {},
   "outputs": [
    {
     "name": "stdout",
     "output_type": "stream",
     "text": [
      "Total time was 1.927086353302002 seconds\n"
     ]
    }
   ],
   "source": [
    "create_list(10010100)"
   ]
  },
  {
   "cell_type": "code",
   "execution_count": null,
   "metadata": {},
   "outputs": [],
   "source": []
  }
 ],
 "metadata": {
  "kernelspec": {
   "display_name": "Python 3",
   "language": "python",
   "name": "python3"
  },
  "language_info": {
   "codemirror_mode": {
    "name": "ipython",
    "version": 3
   },
   "file_extension": ".py",
   "mimetype": "text/x-python",
   "name": "python",
   "nbconvert_exporter": "python",
   "pygments_lexer": "ipython3",
   "version": "3.7.3"
  }
 },
 "nbformat": 4,
 "nbformat_minor": 2
}

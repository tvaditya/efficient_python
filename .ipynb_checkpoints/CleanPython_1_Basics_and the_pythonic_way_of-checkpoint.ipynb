{
 "cells": [
  {
   "cell_type": "markdown",
   "metadata": {},
   "source": [
    "## Use what already exists.\n",
    "\n",
    "(NIH) Not Invented Here Principle. IF a feature already exists use it!"
   ]
  },
  {
   "cell_type": "code",
   "execution_count": 1,
   "metadata": {},
   "outputs": [],
   "source": [
    "import random"
   ]
  },
  {
   "cell_type": "code",
   "execution_count": 2,
   "metadata": {},
   "outputs": [],
   "source": [
    "num = 5\n",
    "password = \"XNSuhfaohdncnunueu!2i243hdna;ano;o8738723123891@!78122739SDASDADASDasdad348329$%^%$1239\""
   ]
  },
  {
   "cell_type": "code",
   "execution_count": 3,
   "metadata": {},
   "outputs": [],
   "source": [
    "random.seed(2019)"
   ]
  },
  {
   "cell_type": "code",
   "execution_count": 4,
   "metadata": {},
   "outputs": [
    {
     "name": "stdout",
     "output_type": "stream",
     "text": [
      "['2', 'o', 'D', 'i', 'o']\n"
     ]
    }
   ],
   "source": [
    "#Bad coding\n",
    "choices = []\n",
    "for x in range(num):\n",
    "    choice = random.choice(password)\n",
    "    choices.append(choice)\n",
    "print(choices)"
   ]
  },
  {
   "cell_type": "code",
   "execution_count": 5,
   "metadata": {},
   "outputs": [],
   "source": [
    "random.seed(2019)"
   ]
  },
  {
   "cell_type": "code",
   "execution_count": 6,
   "metadata": {},
   "outputs": [
    {
     "name": "stdout",
     "output_type": "stream",
     "text": [
      "['2', 'o', 'D', 'i', '1']\n"
     ]
    }
   ],
   "source": [
    "#Good coding\n",
    "choices = random.sample(password, num)\n",
    "print(choices)"
   ]
  },
  {
   "cell_type": "markdown",
   "metadata": {},
   "source": [
    "## Keep it short and simple\n",
    "Complex code is generally bad code. Design simple things, avoid complex things."
   ]
  },
  {
   "cell_type": "code",
   "execution_count": 7,
   "metadata": {},
   "outputs": [],
   "source": [
    "players_list = ['Messi','CR7','Mbappe','Harry Kane','Neuer']"
   ]
  },
  {
   "cell_type": "code",
   "execution_count": 8,
   "metadata": {},
   "outputs": [
    {
     "name": "stdout",
     "output_type": "stream",
     "text": [
      "Messi is the number 1 player of the world.\n",
      "CR7 is the number 2 player of the world.\n",
      "Mbappe is the number 3 player of the world.\n",
      "Harry Kane is the number 4 player of the world.\n",
      "Neuer is the number 5 player of the world.\n"
     ]
    }
   ],
   "source": [
    "# Bad coding\n",
    "for i in range(len(players_list)):\n",
    "    player = players_list[i]\n",
    "    print('{} is the number {} player of the world.'.format( player, i+1))"
   ]
  },
  {
   "cell_type": "code",
   "execution_count": 9,
   "metadata": {},
   "outputs": [
    {
     "name": "stdout",
     "output_type": "stream",
     "text": [
      "Messi is the number 1 player of the world.\n",
      "CR7 is the number 2 player of the world.\n",
      "Mbappe is the number 3 player of the world.\n",
      "Harry Kane is the number 4 player of the world.\n",
      "Neuer is the number 5 player of the world.\n"
     ]
    }
   ],
   "source": [
    "#Good coding\n",
    "for i, player in enumerate(players_list):\n",
    "    print('{} is the number {} player of the world.'.format( player, i+1))"
   ]
  },
  {
   "cell_type": "code",
   "execution_count": 10,
   "metadata": {},
   "outputs": [
    {
     "name": "stdout",
     "output_type": "stream",
     "text": [
      "Messi is the number 1 player of the world.\n",
      "CR7 is the number 2 player of the world.\n",
      "Mbappe is the number 3 player of the world.\n",
      "Harry Kane is the number 4 player of the world.\n",
      "Neuer is the number 5 player of the world.\n"
     ]
    }
   ],
   "source": [
    "for i, player in enumerate(players_list, 1):\n",
    "    print('{} is the number {} player of the world.'.format( player, i))"
   ]
  },
  {
   "cell_type": "markdown",
   "metadata": {},
   "source": [
    "By using enumerate we simplify coding"
   ]
  },
  {
   "cell_type": "markdown",
   "metadata": {},
   "source": [
    "## Learn to use dictionaries\n",
    "<ul style=\"list-style-type:circle;\">\n",
    "    <li> Use the built-in Python features to manipulate any data structure.</li>\n",
    "    <li> Avoid lopping over elements , for exemple to join or merge dictionaries. </li>\n",
    "</ul>\n"
   ]
  },
  {
   "cell_type": "code",
   "execution_count": 11,
   "metadata": {},
   "outputs": [],
   "source": [
    "player = {'name':'Messi', 'first_name':'Lionel','last_name':'Messi'}\n",
    "player_info =  {'position':'center forward', 'role':'captain'}\n",
    "player_team_info = {'team_name':'Barcelona', 'country':'Spain'}"
   ]
  },
  {
   "cell_type": "code",
   "execution_count": 12,
   "metadata": {},
   "outputs": [
    {
     "name": "stdout",
     "output_type": "stream",
     "text": [
      "{'name': 'Messi', 'first_name': 'Lionel', 'last_name': 'Messi', 'position': 'center forward', 'role': 'captain', 'team_name': 'Barcelona', 'country': 'Spain'}\n"
     ]
    }
   ],
   "source": [
    "# Bad coding\n",
    "profile_list = [player, player_info, player_team_info]\n",
    "player_profile = {}\n",
    "\n",
    "for item in profile_list:\n",
    "    for idx in item:\n",
    "        player_profile[idx] = item[idx]\n",
    "        \n",
    "print(player_profile)"
   ]
  },
  {
   "cell_type": "code",
   "execution_count": 13,
   "metadata": {},
   "outputs": [
    {
     "name": "stdout",
     "output_type": "stream",
     "text": [
      "{'name': 'Messi', 'first_name': 'Lionel', 'last_name': 'Messi', 'position': 'center forward', 'role': 'captain', 'team_name': 'Barcelona', 'country': 'Spain'}\n"
     ]
    }
   ],
   "source": [
    "# Good coding\n",
    "player_profile = {}\n",
    "\n",
    "player_profile.update(player)\n",
    "player_profile.update(player_info)\n",
    "player_profile.update(player_team_info)\n",
    "\n",
    "print(player_profile)"
   ]
  },
  {
   "cell_type": "markdown",
   "metadata": {},
   "source": [
    "## Using python dictionaries\n",
    "<ul style=\"list-style-type:circle;\">\n",
    "    <li> A reusable pattern that adds functionality respecting the block structure.</li>\n",
    "    <li> Avoid repetitive code</li>\n",
    "</ul>\n"
   ]
  },
  {
   "cell_type": "code",
   "execution_count": null,
   "metadata": {},
   "outputs": [],
   "source": []
  }
 ],
 "metadata": {
  "kernelspec": {
   "display_name": "Python 3",
   "language": "python",
   "name": "python3"
  },
  "language_info": {
   "codemirror_mode": {
    "name": "ipython",
    "version": 3
   },
   "file_extension": ".py",
   "mimetype": "text/x-python",
   "name": "python",
   "nbconvert_exporter": "python",
   "pygments_lexer": "ipython3",
   "version": "3.7.3"
  }
 },
 "nbformat": 4,
 "nbformat_minor": 2
}
